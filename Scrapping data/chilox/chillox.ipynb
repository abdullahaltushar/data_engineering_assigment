{
 "cells": [
  {
   "cell_type": "code",
   "execution_count": 1,
   "id": "04751721",
   "metadata": {},
   "outputs": [],
   "source": [
    "#imports here\n",
    "from selenium import webdriver\n",
    "from selenium.webdriver.common.keys import Keys\n",
    "from selenium.webdriver.support import expected_conditions as EC\n",
    "from selenium.webdriver.common.by import By\n",
    "from selenium.webdriver.support.wait import WebDriverWait\n",
    "from selenium import webdriver\n",
    "from selenium.webdriver.common.by import By\n",
    "import requests\n",
    "import io\n",
    "from PIL import Image\n",
    "import time"
   ]
  },
  {
   "cell_type": "code",
   "execution_count": 2,
   "id": "a22aea5a",
   "metadata": {
    "scrolled": true
   },
   "outputs": [
    {
     "name": "stderr",
     "output_type": "stream",
     "text": [
      "C:\\Users\\ml_te\\AppData\\Local\\Temp\\ipykernel_10276\\3032348900.py:4: DeprecationWarning: executable_path has been deprecated, please pass in a Service object\n",
      "  wd = webdriver.Chrome(PATH)\n"
     ]
    }
   ],
   "source": [
    "#specify the path to chromedriver.exe (download and save on your computer)\n",
    "PATH = \"C:\\\\Users\\\\ml_te\\\\chromedriver.exe\"\n",
    "\n",
    "wd = webdriver.Chrome(PATH)"
   ]
  },
  {
   "cell_type": "code",
   "execution_count": 3,
   "id": "69fd575c",
   "metadata": {},
   "outputs": [
    {
     "name": "stderr",
     "output_type": "stream",
     "text": [
      "C:\\Users\\ml_te\\AppData\\Local\\Temp\\ipykernel_10276\\1852681232.py:4: DeprecationWarning: use options instead of chrome_options\n",
      "  wd = webdriver.Chrome(chrome_options=chrome_options)\n"
     ]
    }
   ],
   "source": [
    "chrome_options = webdriver.ChromeOptions()\n",
    "prefs = {\"profile.default_content_setting_values.notifications\" : 2}\n",
    "chrome_options.add_experimental_option(\"prefs\",prefs)\n",
    "wd = webdriver.Chrome(chrome_options=chrome_options)\n",
    "wd.get(\"http://www.facebook.com\")"
   ]
  },
  {
   "cell_type": "code",
   "execution_count": 4,
   "id": "c8048e67",
   "metadata": {},
   "outputs": [],
   "source": [
    "#target username\n",
    "username = WebDriverWait(wd, 10).until(EC.element_to_be_clickable((By.CSS_SELECTOR, \"input[name='email']\")))\n",
    "password = WebDriverWait(wd, 10).until(EC.element_to_be_clickable((By.CSS_SELECTOR, \"input[name='pass']\")))\n",
    "\n",
    "#enter username and password\n",
    "username.clear()\n",
    "username.send_keys(\"abdullahaltushar12@gmail.com\")\n",
    "password.clear()\n",
    "password.send_keys(\"\")\n",
    "#target the login button and click it\n",
    "button = WebDriverWait(wd, 2).until(EC.element_to_be_clickable((By.CSS_SELECTOR, \"button[type='submit']\"))).click()\n",
    "time.sleep(5)"
   ]
  },
  {
   "cell_type": "code",
   "execution_count": 15,
   "id": "a0468fa6",
   "metadata": {},
   "outputs": [],
   "source": [
    "import pandas as pd\n",
    "import requests\n",
    "from bs4 import BeautifulSoup\n",
    "wd.get('https://www.facebook.com/chillox.burgers/?ref=page_internal')\n",
    "\n",
    "for x in range(1, 4):\n",
    "    wd.execute_script(\"window.scrollTo(0,document.body.scrollHeight)\")\n",
    "    time.sleep(5)\n",
    "\n",
    "soup = BeautifulSoup(wd.page_source, 'html.parser')\n",
    "\n",
    "posts=soup.find_all('div',attrs={'class':'alzwoclg cqf1kptm siwo0mpr gu5uzgus'})\n",
    "\n",
    "postloop=[title.text for title in posts]\n"
   ]
  },
  {
   "cell_type": "code",
   "execution_count": 16,
   "id": "1666a392",
   "metadata": {},
   "outputs": [
    {
     "data": {
      "text/plain": [
       "['Hi! Please let us know how we can help.',\n",
       " 'Chillox',\n",
       " 'Burgers || Fries || Shakes 100% halal',\n",
       " 'Burgers || Fries || Shakes 100% halal',\n",
       " 'Burgers || Fries || Shakes 100% halal',\n",
       " 'Burgers || Fries || Shakes 100% halal',\n",
       " '344,838 people like this including 4 of your friends',\n",
       " '349,833 people follow this',\n",
       " '3,580 people checked in here',\n",
       " '09678-361361',\n",
       " 'Very responsive to messagesSend message',\n",
       " 'chillox.burgers@gmail.com',\n",
       " 'Price range\\xa0 · $',\n",
       " 'Burger Restaurant',\n",
       " 'See menu',\n",
       " 'chillox.burgers',\n",
       " \"Deshi fathers react to Chillox food for father's day 👨🏽\\u200d🦰\\nWe are not definitely not nervous 👀🥶\\n\\nHappy Father's day to every lovely father out there!\",\n",
       " 'Pinned post',\n",
       " 'Chillox\\xa0 · esSdpotonrmJh243a72c145414le54u0460904gta773nf1hgai1\\xa0i6207ug\\xa0 · Shared with Public',\n",
       " \"Deshi fathers react to Chillox food for father's day We are not definitely not nervous Happy Father's day to every lovely father out there!\",\n",
       " 'Fathers trying out Chillox (Deshi Reacts × Chillox) | Brand Collaborationতুষার',\n",
       " 'Other posts',\n",
       " 'Chillox\\xa0 · \\xa0 · Shared with Public',\n",
       " 'Guess our new outlet location in the comment section. Lucky 10 commenters will get a free burger there  ',\n",
       " 'আব্দুল্লাহ আলGuess our new outlet location in the comment section. Lucky 10 commenters will get a free burger there  ',\n",
       " 'Chillox\\xa0 · \\xa0 · Shared with Public',\n",
       " 'Having a Naga Drum ',\n",
       " 'আব্দুল্লাহ আলHaving a Naga Drum ',\n",
       " 'Chillox\\xa0 · \\xa0 · Shared with Public',\n",
       " 'Our Bashundhara branch is closed for the day due to restaurant maintenance. Chill, we will be open again for both dine-in and takeaways from tomorrow!',\n",
       " 'Chillox\\xa0 · \\xa0 · Shared with Public',\n",
       " 'KhaoDaoapp\\xa0 · \\xa0 · Shared with Public',\n",
       " '100 taka flat discount at \"Chillox\"Get 100 taka flat discount on your order.Min order: 299tkCode:KDNEWGet ready and don\\'t forget to download the app.ড… See more',\n",
       " 'KhaoDao - Apps on Google PlayA food ordering platform to order directly from the table at your restaurant',\n",
       " 'Chillox\\xa0 · \\xa0 · Shared with Public',\n",
       " \"Congratulations Bangladesh Women's team for their thrilling performance in SAFF Women’s Championship 2022 Gg wp \",\n",
       " \"আব্দুল্লাহ আলCongratulations Bangladesh Women's team for their thrilling performance in SAFF Women’s Championship 2022 \\nGg wp \",\n",
       " 'Chillox\\xa0 · \\xa0 · Shared with Public',\n",
       " 'Here’s to all কোঁকড়া চুল ! Happy Afro Day #worldafroday #chillox',\n",
       " 'আব্দুল্লাহ আলতুষার',\n",
       " 'Chillox\\xa0 · \\xa0 · Shared with Public',\n",
       " 'Give Your Best Shot ',\n",
       " 'আব্দুল্লাহ আলGive Your Best Shot ',\n",
       " 'Chillox\\xa0 · \\xa0 · Shared with Public',\n",
       " ' Welcoming our new Chatgaiya bro, The Lone Star Steakhouse! The best burger and the best steak are now under the same roof! Location: https://maps.app.goo.gl/KTFvmiAwPw2GthZ58',\n",
       " 'আব্দুল্লাহ আল Welcoming our new Chatgaiya bro, The Lone Star Steakhouse!\\n\\n The best burger and the best steak are now under the same roof!\\n\\n Location: https://maps.app.goo.gl/KTFvmiAwPw2GthZ58',\n",
       " 'Chillox\\xa0 · \\xa0 · Shared with Public',\n",
       " 'Get Your Shakes On ',\n",
       " 'আব্দুল্লাহ আলGet Your Shakes On ',\n",
       " 'Chillox\\xa0 · \\xa0 · Shared with Public',\n",
       " '',\n",
       " 'Dubai to Bangladeshi just for burgerতুষার',\n",
       " 'Life of Armayra\\xa0 · \\xa0 · Shared with Public',\n",
       " 'দুবাই থেকে বাংলাদেশ আসলো তার favourite Chillox এর Burger খেতে আরমানের মত Burger প্রেমী আমি কম দেখেছি।দুনিয়ার যেই প্রান্তেই যাবে  উনি burger ই order করবে… See more',\n",
       " 'Chillox\\xa0 · \\xa0 · Shared with Public',\n",
       " 'In a Perfect World  ',\n",
       " 'আব্দুল্লাহ আলIn a Perfect World  ',\n",
       " 'Chillox\\xa0 · \\xa0 · Shared with Public',\n",
       " 'The season is knocking at the door! Yet your better half can be  You know.... ',\n",
       " 'আব্দুল্লাহ আলThe season is knocking at the door! Yet your better half can be  You know.... ',\n",
       " 'Chillox\\xa0 · \\xa0 · Shared with Public',\n",
       " 'চিলক্সে গিয়েছিলাম গতকাল দুপুরে আমার হাসব্যান্ড ও তার কাজিনের সাথে। আমি গিয়ে বসলাম কর্ণারের ৩ সিটের সোফায়; আমি ছিলাম এক সাইডে অন্য সাইডে আমার স্বামীর কাজিন বসলো, মাঝখানে ফাঁকা। আমার হাসব্যান্ড\\u200c না\\u200c বসে দাঁড়িয়ে রইল, কোনো কথা না বলে আমার দিকে তাকিয়ে থাকলো কিছুক্ষণ। আমি কিছু বুঝে উঠতে পারছিলাম না। এরপর ও দ্রুত সোজা স্মোকিং জোনে চলে গেলো, আমিও দ্রুত উঠে ওর পিছু পিছু স্মোকিং জোনে গেলাম। জিজ্ঞেস করলাম কি হইছে কোনো উত্তর দিচ্ছিলো না। খেয়াল করলাম চোখ লাল হয়ে গেছে মুহূর্তেই গ… See more',\n",
       " 'আব্দুল্লাহ আলচিলক্সে গিয়েছিলাম গতকাল দুপুরে আমার হাসব্যান্ড ও তার কাজিনের সাথে। আমি গিয়ে বসলাম কর্ণারের ৩ সিটের সোফায়; আমি ছিলাম এক সাইডে অন্য সাইডে আমার স্বামীর কাজিন বসলো, মাঝখানে ফাঁকা। \\n\\nআমার হাসব্যান্ড\\u200c না\\u200c বসে দাঁড়িয়ে রইল, কোনো কথা না বলে আমার দিকে তাকিয়ে থাকলো কিছুক্ষণ। আমি কিছু বুঝে উঠতে পারছিলাম না। \\n\\nএরপর ও দ্রুত সোজা স্মোকিং জোনে চলে গেলো, আমিও দ্রুত উঠে ওর পিছু পিছু স্মোকিং জোনে গেলাম। জিজ্ঞেস করলাম কি হইছে কোনো উত্তর দিচ্ছিলো না। খেয়াল করলাম চোখ লাল হয়ে গেছে মুহূর্তেই গলার রগ বেয়ে গেছে। \\n\\nএমন সাধারণত ওর তখন হয় যখন খুব রেগে যায়। আমি ভয়ে ভয়ে পাশে গিয়ে ওর মাথায় হাত দিয়ে বসিয়ে শান্ত করার চেষ্টা করছিলাম। তখনও আমি জানিনা কি হচ্ছে, কিন্তু সে একদম টাচ ও করতে দিতে ইচ্ছুক না।\\n\\nওর এমন ব্যবহারে ভয়ে আমি কেঁদে দেই, এরপর হঠাৎ বলে উঠে তার সাথে সোফায় বসতে তো ভালোই লাগছিলো তাইনা? যাও গিয়ে বসো আমার সামনে আর আসবানা। এই কথা শুনার পর আমি হাসবো না কাঁদবো বুঝতেছিলাম না।\\n\\nএত বড় সোফায় দুজন দু মাথায় এটা দেখেই ওর এই অবস্থা? সাথে সাথে তাকে চেয়ারে বসিয়ে শক্ত করে জড়িয়ে ধরে বললাম শান্ত হও প্লিজ শান্ত হও। যখন জড়িয়ে ধরি ওর শরীর রাগে কাঁপছিলো। ধীরেধীরে একদম শান্ত হয়ে যায়।\\n\\nএরপর ওয়াদা করি আর কখনই এমন হবেনা আমাকে মাফ করে দাও। প্রেম করে বিয়ে করেছি ৩ বছর হয়ে গেলো। পা-গল টা এখনও সেই আগের মতই আছে। মনে পড়ে গেলো ৩ বছর আগে একদিন এই চিলক্সেই বসেছিলাম পাশে এক লোক ছিলো সেদিনও সে ঠিক একই কর্মকাণ্ড করেছিলো।\\n\\nএকটা মানুষ এতটা ভালো কিভাবে বাসতে পারে?',\n",
       " 'Chillox\\xa0 · \\xa0 · Shared with Public',\n",
       " 'Tears will come out! Yet your heart will want only one thing. Inherit the Naga Throne!  ',\n",
       " 'আব্দুল্লাহ আলTears will come out! Yet your heart will want only one thing. Inherit the Naga Throne!  ',\n",
       " 'Chillox\\xa0 · \\xa0 · Shared with Public',\n",
       " 'Take a photo of a burger = Win a Burger! 1. Join Here to Chill2. Upload your photo with #CPC22 3. Wait for results!… See more',\n",
       " 'আব্দুল্লাহ আলTake a photo of a burger = Win a Burger! \\n\\n1. Join Here to Chill\\n2. Upload your photo with #CPC22 \\n3. Wait for results!\\n\\nTop 5 Photos with Highest Reactions will Win a Chicken Cheese Burger  Each!\\n\\nDeadline: 26th August 2022\\n#chillox \\n#worldphotographyday']"
      ]
     },
     "execution_count": 16,
     "metadata": {},
     "output_type": "execute_result"
    }
   ],
   "source": [
    "postloop"
   ]
  },
  {
   "cell_type": "code",
   "execution_count": 17,
   "id": "12ea3557",
   "metadata": {},
   "outputs": [],
   "source": [
    "data={'Post':postloop}"
   ]
  },
  {
   "cell_type": "code",
   "execution_count": null,
   "id": "539c8e50",
   "metadata": {},
   "outputs": [],
   "source": [
    "# data={'Name':commentloop, 'comment':titleloop}"
   ]
  },
  {
   "cell_type": "code",
   "execution_count": 18,
   "id": "c266d279",
   "metadata": {},
   "outputs": [
    {
     "data": {
      "text/html": [
       "<div>\n",
       "<style scoped>\n",
       "    .dataframe tbody tr th:only-of-type {\n",
       "        vertical-align: middle;\n",
       "    }\n",
       "\n",
       "    .dataframe tbody tr th {\n",
       "        vertical-align: top;\n",
       "    }\n",
       "\n",
       "    .dataframe thead th {\n",
       "        text-align: right;\n",
       "    }\n",
       "</style>\n",
       "<table border=\"1\" class=\"dataframe\">\n",
       "  <thead>\n",
       "    <tr style=\"text-align: right;\">\n",
       "      <th></th>\n",
       "      <th>Post</th>\n",
       "    </tr>\n",
       "  </thead>\n",
       "  <tbody>\n",
       "    <tr>\n",
       "      <th>0</th>\n",
       "      <td>Hi! Please let us know how we can help.</td>\n",
       "    </tr>\n",
       "    <tr>\n",
       "      <th>1</th>\n",
       "      <td>Chillox</td>\n",
       "    </tr>\n",
       "    <tr>\n",
       "      <th>2</th>\n",
       "      <td>Burgers || Fries || Shakes 100% halal</td>\n",
       "    </tr>\n",
       "    <tr>\n",
       "      <th>3</th>\n",
       "      <td>Burgers || Fries || Shakes 100% halal</td>\n",
       "    </tr>\n",
       "    <tr>\n",
       "      <th>4</th>\n",
       "      <td>Burgers || Fries || Shakes 100% halal</td>\n",
       "    </tr>\n",
       "    <tr>\n",
       "      <th>...</th>\n",
       "      <td>...</td>\n",
       "    </tr>\n",
       "    <tr>\n",
       "      <th>64</th>\n",
       "      <td>Tears will come out! Yet your heart will want ...</td>\n",
       "    </tr>\n",
       "    <tr>\n",
       "      <th>65</th>\n",
       "      <td>আব্দুল্লাহ আলTears will come out! Yet your hea...</td>\n",
       "    </tr>\n",
       "    <tr>\n",
       "      <th>66</th>\n",
       "      <td>Chillox  ·   · Shared with Public</td>\n",
       "    </tr>\n",
       "    <tr>\n",
       "      <th>67</th>\n",
       "      <td>Take a photo of a burger = Win a Burger! 1. Jo...</td>\n",
       "    </tr>\n",
       "    <tr>\n",
       "      <th>68</th>\n",
       "      <td>আব্দুল্লাহ আলTake a photo of a burger = Win a ...</td>\n",
       "    </tr>\n",
       "  </tbody>\n",
       "</table>\n",
       "<p>69 rows × 1 columns</p>\n",
       "</div>"
      ],
      "text/plain": [
       "                                                 Post\n",
       "0             Hi! Please let us know how we can help.\n",
       "1                                             Chillox\n",
       "2               Burgers || Fries || Shakes 100% halal\n",
       "3               Burgers || Fries || Shakes 100% halal\n",
       "4               Burgers || Fries || Shakes 100% halal\n",
       "..                                                ...\n",
       "64  Tears will come out! Yet your heart will want ...\n",
       "65  আব্দুল্লাহ আলTears will come out! Yet your hea...\n",
       "66                  Chillox  ·   · Shared with Public\n",
       "67  Take a photo of a burger = Win a Burger! 1. Jo...\n",
       "68  আব্দুল্লাহ আলTake a photo of a burger = Win a ...\n",
       "\n",
       "[69 rows x 1 columns]"
      ]
     },
     "execution_count": 18,
     "metadata": {},
     "output_type": "execute_result"
    }
   ],
   "source": [
    "data=pd.DataFrame(data,columns=['Post'])\n",
    "data"
   ]
  },
  {
   "cell_type": "code",
   "execution_count": null,
   "id": "f36bf580",
   "metadata": {},
   "outputs": [],
   "source": [
    "# data=pd.DataFrame(data,columns=['Name','comment'])\n",
    "# data"
   ]
  },
  {
   "cell_type": "code",
   "execution_count": 19,
   "id": "ccb85820",
   "metadata": {},
   "outputs": [],
   "source": [
    "data.to_csv(\"chilox.csv\")"
   ]
  },
  {
   "cell_type": "code",
   "execution_count": null,
   "id": "8ec796ae",
   "metadata": {},
   "outputs": [],
   "source": []
  }
 ],
 "metadata": {
  "kernelspec": {
   "display_name": "Python 3",
   "language": "python",
   "name": "python3"
  },
  "language_info": {
   "codemirror_mode": {
    "name": "ipython",
    "version": 3
   },
   "file_extension": ".py",
   "mimetype": "text/x-python",
   "name": "python",
   "nbconvert_exporter": "python",
   "pygments_lexer": "ipython3",
   "version": "3.8.5"
  }
 },
 "nbformat": 4,
 "nbformat_minor": 5
}
