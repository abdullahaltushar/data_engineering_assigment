{
 "cells": [
  {
   "cell_type": "code",
   "execution_count": 1,
   "id": "7076af02",
   "metadata": {},
   "outputs": [],
   "source": [
    "#imports here\n",
    "from selenium import webdriver\n",
    "from selenium.webdriver.common.keys import Keys\n",
    "from selenium.webdriver.support import expected_conditions as EC\n",
    "from selenium.webdriver.common.by import By\n",
    "from selenium.webdriver.support.wait import WebDriverWait\n",
    "from selenium import webdriver\n",
    "from selenium.webdriver.common.by import By\n",
    "import requests\n",
    "import io\n",
    "from PIL import Image\n",
    "import time\n",
    "import numpy as np\n",
    "from selenium import webdriver\n",
    "from selenium.webdriver.common.keys import Keys\n",
    "from selenium.webdriver.support import expected_conditions as EC\n",
    "from selenium.webdriver.common.by import By\n",
    "from selenium.webdriver.support.wait import WebDriverWait\n",
    "import requests\n",
    "import io\n",
    "import re\n",
    "from PIL import Image\n",
    "import time\n",
    "import pandas as pd\n",
    "import numpy as np\n",
    "import requests\n",
    "from bs4 import BeautifulSoup\n",
    "from time import sleep\n",
    "import urllib3\n",
    "import urllib.request, urllib.error, urllib.parse\n",
    "from random import randint"
   ]
  },
  {
   "cell_type": "code",
   "execution_count": 2,
   "id": "2ed522dc",
   "metadata": {},
   "outputs": [
    {
     "name": "stderr",
     "output_type": "stream",
     "text": [
      "C:\\Users\\ml_te\\AppData\\Local\\Temp\\ipykernel_5064\\3032348900.py:4: DeprecationWarning: executable_path has been deprecated, please pass in a Service object\n",
      "  wd = webdriver.Chrome(PATH)\n"
     ]
    }
   ],
   "source": [
    "#specify the path to chromedriver.exe (download and save on your computer)\n",
    "PATH = \"C:\\\\Users\\\\ml_te\\\\chromedriver.exe\"\n",
    "\n",
    "wd = webdriver.Chrome(PATH)"
   ]
  },
  {
   "cell_type": "code",
   "execution_count": 3,
   "id": "e513bc99",
   "metadata": {},
   "outputs": [],
   "source": [
    "pages = np.arange(1,2,1)"
   ]
  },
  {
   "cell_type": "code",
   "execution_count": 4,
   "id": "45ea2ddb",
   "metadata": {},
   "outputs": [
    {
     "name": "stderr",
     "output_type": "stream",
     "text": [
      "C:\\Users\\ml_te\\AppData\\Local\\Temp\\ipykernel_5064\\3051394242.py:4: DeprecationWarning: use options instead of chrome_options\n",
      "  wd = webdriver.Chrome(chrome_options=chrome_options)\n"
     ]
    }
   ],
   "source": [
    "chrome_options = webdriver.ChromeOptions()\n",
    "prefs = {\"profile.default_content_setting_values.notifications\" : 2}\n",
    "chrome_options.add_experimental_option(\"prefs\",prefs)\n",
    "wd = webdriver.Chrome(chrome_options=chrome_options)\n",
    "wd.get(\"https://www.pizzahutbd.com\")"
   ]
  },
  {
   "cell_type": "code",
   "execution_count": 5,
   "id": "6d039e1a",
   "metadata": {
    "scrolled": false
   },
   "outputs": [
    {
     "name": "stdout",
     "output_type": "stream",
     "text": [
      "1\n",
      "2\n",
      "3\n",
      "[<img alt=\"\" class=\"img-fluid deal-cart\" src=\"https://www.pizzahutbd.com/attached_images/deals/92/EBOGO OLO Banner.jpg\"/>, <img alt=\"\" class=\"img-fluid deal-cart\" src=\"https://www.pizzahutbd.com/attached_images/deals/8/Double-Deal---OLO-Banner-Jan-10.jpg\"/>, <img alt=\"\" class=\"img-fluid deal-cart\" src=\"https://www.pizzahutbd.com/attached_images/deals/23/Pan-4-All-OLO-Banner.jpg\"/>, <img alt=\"\" class=\"img-fluid deal-cart\" src=\"https://www.pizzahutbd.com/attached_images/deals/60/Meal For 6 OLO Banner mar 2022.jpg\"/>]\n",
      "https://www.pizzahutbd.com/attached_images/deals/92/EBOGO OLO Banner.jpg\n",
      "https://www.pizzahutbd.com/attached_images/deals/8/Double-Deal---OLO-Banner-Jan-10.jpg\n",
      "https://www.pizzahutbd.com/attached_images/deals/23/Pan-4-All-OLO-Banner.jpg\n",
      "https://www.pizzahutbd.com/attached_images/deals/60/Meal For 6 OLO Banner mar 2022.jpg\n"
     ]
    }
   ],
   "source": [
    "address=[]\n",
    "price=[]\n",
    "detail=[]\n",
    "name=[]\n",
    "bd=[]\n",
    "made=[]\n",
    "colour=[]\n",
    "weight=[]\n",
    "ram=[]\n",
    "rom=[]\n",
    "hotel=[]\n",
    "cpu=[]\n",
    "image_url=[]\n",
    "battery=[]\n",
    "\n",
    "for page in pages:\n",
    "    wd.get(\"https://www.pizzahutbd.com\")\n",
    "    time.sleep(1)\n",
    "#     soup = BeautifulSoup(wd.page_source, 'html.parser')\n",
    "#     data = soup.findAll('div', attrs = {'class':'a1b3f50dcd f7c6687c3d ef8295f3e6'})\n",
    "    i=0\n",
    "    number=0\n",
    "    p = wd.current_window_handle\n",
    "    #get first child window\n",
    "    chwd = wd.window_handles\n",
    "    print(1)\n",
    "    for w in chwd:\n",
    "        print(2)\n",
    "        print(3)\n",
    "        wd.switch_to.window(w)\n",
    "        soup = BeautifulSoup(wd.page_source, 'html.parser')\n",
    "        j=0\n",
    "        images=soup.find_all(\"img\",attrs={'class':'img-fluid deal-cart'})\n",
    "        print(images)\n",
    "        for image in images:\n",
    "            print(image[\"src\"])\n",
    "            image_src = image[\"src\"]\n",
    "            image_src = image_src.replace(\" \", \"%20\")\n",
    "            new=\"pizza\"\n",
    "            alt=image.attrs['alt'].strip()\n",
    "            result = re.sub('/','',alt)\n",
    "            image_url.append(result)\n",
    "            name1=\"pizza/\"+str(i)+\".jpg\"\n",
    "            urllib.request.urlretrieve(image_src,name1)\n",
    "            number=number+1\n",
    "            i=i+1\n",
    "wd.quit()"
   ]
  }
 ],
 "metadata": {
  "kernelspec": {
   "display_name": "Python 3",
   "language": "python",
   "name": "python3"
  },
  "language_info": {
   "codemirror_mode": {
    "name": "ipython",
    "version": 3
   },
   "file_extension": ".py",
   "mimetype": "text/x-python",
   "name": "python",
   "nbconvert_exporter": "python",
   "pygments_lexer": "ipython3",
   "version": "3.8.5"
  }
 },
 "nbformat": 4,
 "nbformat_minor": 5
}
